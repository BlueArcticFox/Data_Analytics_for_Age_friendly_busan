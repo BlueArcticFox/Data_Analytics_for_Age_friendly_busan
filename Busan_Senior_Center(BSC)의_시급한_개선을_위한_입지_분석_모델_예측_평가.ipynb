{
  "nbformat": 4,
  "nbformat_minor": 0,
  "metadata": {
    "colab": {
      "name": "Busan_Senior_Center(BSC)의_시급한_개선을_위한_입지_분석_모델_예측_평가.ipynb",
      "provenance": [],
      "collapsed_sections": [],
      "toc_visible": true
    },
    "kernelspec": {
      "name": "python3",
      "display_name": "Python 3"
    },
    "language_info": {
      "name": "python"
    }
  },
  "cells": [
    {
      "cell_type": "markdown",
      "metadata": {
        "id": "uzICUdLR0ZuE"
      },
      "source": [
        "# 예측 평가 \n",
        "---\n",
        "가정 : 현재의 년도는 2015년이다.\n",
        "\n",
        "예측 년도 : 2021년\n",
        "\n",
        "목표 : 실제 2021년 적절한 경로당 수와 오차 확인"
      ]
    },
    {
      "cell_type": "markdown",
      "metadata": {
        "id": "584GJQsd01xH"
      },
      "source": [
        "# 2015년 부산 광역시 데이터 분석\n",
        "___\n",
        "\n",
        "사용 하는 데이터 목록 \n",
        "\n",
        "1. 2015년 부산 인구 데이터\n",
        "2. 2015년 부산 경로당 현황\n",
        "3. 부산 경로당 이용률\n",
        "4. 2015년 부산 행정 구역 정보"
      ]
    },
    {
      "cell_type": "markdown",
      "metadata": {
        "id": "VkoF0gz10XsA"
      },
      "source": [
        "관련 라이브러리 import"
      ]
    },
    {
      "cell_type": "code",
      "metadata": {
        "id": "YzGRA5JuzuY_"
      },
      "source": [
        "import pandas as pd\n",
        "import matplotlib.pyplot as plt\n",
        "import numpy as np\n",
        "import seaborn as sns"
      ],
      "execution_count": 1,
      "outputs": []
    },
    {
      "cell_type": "markdown",
      "metadata": {
        "id": "PElngc2BI836"
      },
      "source": [
        "차트 한글 깨짐 발생시 주석 해제 후 실행 -> 런타임 -> 런타임 재시작"
      ]
    },
    {
      "cell_type": "code",
      "metadata": {
        "id": "QLu92xrsI8Np"
      },
      "source": [
        "!sudo apt-get install -y fonts-nanum\n",
        "!sudo fc-cache -fv\n",
        "!rm ~/.cache/matplotlib -rf"
      ],
      "execution_count": null,
      "outputs": []
    },
    {
      "cell_type": "markdown",
      "metadata": {
        "id": "lCWwniTQ0W5h"
      },
      "source": [
        "# 인구 현황, 경로당 현황 및 경로당 이용률 데이터 로드"
      ]
    },
    {
      "cell_type": "markdown",
      "metadata": {
        "id": "UNdJcZVr2Wwl"
      },
      "source": [
        "2015년 부산 인구 현황 로드"
      ]
    },
    {
      "cell_type": "code",
      "metadata": {
        "colab": {
          "base_uri": "https://localhost:8080/",
          "height": 206
        },
        "id": "AkUuk5wG0P8_",
        "outputId": "91eaf4c2-f48e-46ef-fbbc-ae612577d710"
      },
      "source": [
        "df_population  = pd.read_csv(\"2015년 부산인구.csv\",encoding='cp949')\n",
        "df_population.head(5)"
      ],
      "execution_count": 2,
      "outputs": [
        {
          "output_type": "execute_result",
          "data": {
            "text/html": [
              "<div>\n",
              "<style scoped>\n",
              "    .dataframe tbody tr th:only-of-type {\n",
              "        vertical-align: middle;\n",
              "    }\n",
              "\n",
              "    .dataframe tbody tr th {\n",
              "        vertical-align: top;\n",
              "    }\n",
              "\n",
              "    .dataframe thead th {\n",
              "        text-align: right;\n",
              "    }\n",
              "</style>\n",
              "<table border=\"1\" class=\"dataframe\">\n",
              "  <thead>\n",
              "    <tr style=\"text-align: right;\">\n",
              "      <th></th>\n",
              "      <th>행정구역(동읍면)별</th>\n",
              "      <th>합계</th>\n",
              "      <th>65 - 69세</th>\n",
              "      <th>70 - 74세</th>\n",
              "      <th>75 - 79세</th>\n",
              "      <th>80 - 84세</th>\n",
              "      <th>85 - 89세</th>\n",
              "      <th>90 - 94세</th>\n",
              "      <th>95 - 99세</th>\n",
              "      <th>100+</th>\n",
              "      <th>고령인구 합계</th>\n",
              "    </tr>\n",
              "  </thead>\n",
              "  <tbody>\n",
              "    <tr>\n",
              "      <th>0</th>\n",
              "      <td>부산광역시</td>\n",
              "      <td>3513777</td>\n",
              "      <td>184875</td>\n",
              "      <td>140328</td>\n",
              "      <td>99313</td>\n",
              "      <td>54727</td>\n",
              "      <td>24401</td>\n",
              "      <td>7782</td>\n",
              "      <td>1715</td>\n",
              "      <td>1489</td>\n",
              "      <td>514630</td>\n",
              "    </tr>\n",
              "    <tr>\n",
              "      <th>1</th>\n",
              "      <td>중구</td>\n",
              "      <td>45816</td>\n",
              "      <td>3205</td>\n",
              "      <td>2635</td>\n",
              "      <td>1870</td>\n",
              "      <td>966</td>\n",
              "      <td>498</td>\n",
              "      <td>190</td>\n",
              "      <td>42</td>\n",
              "      <td>64</td>\n",
              "      <td>9470</td>\n",
              "    </tr>\n",
              "    <tr>\n",
              "      <th>2</th>\n",
              "      <td>중앙동</td>\n",
              "      <td>1789</td>\n",
              "      <td>142</td>\n",
              "      <td>102</td>\n",
              "      <td>81</td>\n",
              "      <td>40</td>\n",
              "      <td>20</td>\n",
              "      <td>13</td>\n",
              "      <td>2</td>\n",
              "      <td>3</td>\n",
              "      <td>403</td>\n",
              "    </tr>\n",
              "    <tr>\n",
              "      <th>3</th>\n",
              "      <td>동광동</td>\n",
              "      <td>3444</td>\n",
              "      <td>264</td>\n",
              "      <td>245</td>\n",
              "      <td>156</td>\n",
              "      <td>79</td>\n",
              "      <td>50</td>\n",
              "      <td>19</td>\n",
              "      <td>2</td>\n",
              "      <td>4</td>\n",
              "      <td>819</td>\n",
              "    </tr>\n",
              "    <tr>\n",
              "      <th>4</th>\n",
              "      <td>대청동</td>\n",
              "      <td>7540</td>\n",
              "      <td>479</td>\n",
              "      <td>379</td>\n",
              "      <td>275</td>\n",
              "      <td>154</td>\n",
              "      <td>92</td>\n",
              "      <td>26</td>\n",
              "      <td>7</td>\n",
              "      <td>6</td>\n",
              "      <td>1418</td>\n",
              "    </tr>\n",
              "  </tbody>\n",
              "</table>\n",
              "</div>"
            ],
            "text/plain": [
              "  행정구역(동읍면)별       합계  65 - 69세  70 - 74세  ...  90 - 94세  95 - 99세  100+  고령인구 합계\n",
              "0      부산광역시  3513777    184875    140328  ...      7782      1715  1489   514630\n",
              "1         중구    45816      3205      2635  ...       190        42    64     9470\n",
              "2        중앙동     1789       142       102  ...        13         2     3      403\n",
              "3        동광동     3444       264       245  ...        19         2     4      819\n",
              "4        대청동     7540       479       379  ...        26         7     6     1418\n",
              "\n",
              "[5 rows x 11 columns]"
            ]
          },
          "metadata": {},
          "execution_count": 2
        }
      ]
    },
    {
      "cell_type": "markdown",
      "metadata": {
        "id": "coJQv0Wj2Vag"
      },
      "source": [
        "부산 경로당 이용률 로드"
      ]
    },
    {
      "cell_type": "code",
      "metadata": {
        "colab": {
          "base_uri": "https://localhost:8080/",
          "height": 206
        },
        "id": "_0mmyiex0UVm",
        "outputId": "1816da3d-6a5f-4100-f8a5-0b8769729b8a"
      },
      "source": [
        "df_sc_members = pd.read_csv(\"경로당 등록자 수.csv\",encoding='UTF-8')\n",
        "df_sc_members.head(5)"
      ],
      "execution_count": 3,
      "outputs": [
        {
          "output_type": "execute_result",
          "data": {
            "text/html": [
              "<div>\n",
              "<style scoped>\n",
              "    .dataframe tbody tr th:only-of-type {\n",
              "        vertical-align: middle;\n",
              "    }\n",
              "\n",
              "    .dataframe tbody tr th {\n",
              "        vertical-align: top;\n",
              "    }\n",
              "\n",
              "    .dataframe thead th {\n",
              "        text-align: right;\n",
              "    }\n",
              "</style>\n",
              "<table border=\"1\" class=\"dataframe\">\n",
              "  <thead>\n",
              "    <tr style=\"text-align: right;\">\n",
              "      <th></th>\n",
              "      <th>구분</th>\n",
              "      <th>경로당 1개소 당 등록자 수</th>\n",
              "      <th>전체 노인 중 경로당 이용 비율</th>\n",
              "      <th>전체 인구 중 노인 비율</th>\n",
              "    </tr>\n",
              "  </thead>\n",
              "  <tbody>\n",
              "    <tr>\n",
              "      <th>0</th>\n",
              "      <td>중구</td>\n",
              "      <td>43.2</td>\n",
              "      <td>12.5</td>\n",
              "      <td>24.2</td>\n",
              "    </tr>\n",
              "    <tr>\n",
              "      <th>1</th>\n",
              "      <td>서구</td>\n",
              "      <td>26.2</td>\n",
              "      <td>7.6</td>\n",
              "      <td>22.8</td>\n",
              "    </tr>\n",
              "    <tr>\n",
              "      <th>2</th>\n",
              "      <td>동구</td>\n",
              "      <td>30.7</td>\n",
              "      <td>9.6</td>\n",
              "      <td>24.6</td>\n",
              "    </tr>\n",
              "    <tr>\n",
              "      <th>3</th>\n",
              "      <td>영도구</td>\n",
              "      <td>35.2</td>\n",
              "      <td>8.1</td>\n",
              "      <td>24.2</td>\n",
              "    </tr>\n",
              "    <tr>\n",
              "      <th>4</th>\n",
              "      <td>부산진구</td>\n",
              "      <td>31.9</td>\n",
              "      <td>15.0</td>\n",
              "      <td>17.8</td>\n",
              "    </tr>\n",
              "  </tbody>\n",
              "</table>\n",
              "</div>"
            ],
            "text/plain": [
              "     구분  경로당 1개소 당 등록자 수  전체 노인 중 경로당 이용 비율  전체 인구 중 노인 비율\n",
              "0    중구             43.2               12.5           24.2\n",
              "1    서구             26.2                7.6           22.8\n",
              "2    동구             30.7                9.6           24.6\n",
              "3   영도구             35.2                8.1           24.2\n",
              "4  부산진구             31.9               15.0           17.8"
            ]
          },
          "metadata": {},
          "execution_count": 3
        }
      ]
    },
    {
      "cell_type": "markdown",
      "metadata": {
        "id": "JURf6iFL2bJH"
      },
      "source": [
        "2015년 부산 경로당 현황 로드"
      ]
    },
    {
      "cell_type": "code",
      "metadata": {
        "colab": {
          "base_uri": "https://localhost:8080/",
          "height": 206
        },
        "id": "28M_JycE0WAZ",
        "outputId": "bfe3d151-6c4c-46dd-b51c-76a89f2da5b7"
      },
      "source": [
        "df_busan_senior_centers = pd.read_csv(\"경로당 현황_2015.csv\",encoding='cp949')\n",
        "df_busan_senior_centers.head(5)"
      ],
      "execution_count": 4,
      "outputs": [
        {
          "output_type": "execute_result",
          "data": {
            "text/html": [
              "<div>\n",
              "<style scoped>\n",
              "    .dataframe tbody tr th:only-of-type {\n",
              "        vertical-align: middle;\n",
              "    }\n",
              "\n",
              "    .dataframe tbody tr th {\n",
              "        vertical-align: top;\n",
              "    }\n",
              "\n",
              "    .dataframe thead th {\n",
              "        text-align: right;\n",
              "    }\n",
              "</style>\n",
              "<table border=\"1\" class=\"dataframe\">\n",
              "  <thead>\n",
              "    <tr style=\"text-align: right;\">\n",
              "      <th></th>\n",
              "      <th>시설 명</th>\n",
              "      <th>주소</th>\n",
              "      <th>읍면동</th>\n",
              "    </tr>\n",
              "  </thead>\n",
              "  <tbody>\n",
              "    <tr>\n",
              "      <th>0</th>\n",
              "      <td>구름다리</td>\n",
              "      <td>중구 법수길 76</td>\n",
              "      <td>보수동</td>\n",
              "    </tr>\n",
              "    <tr>\n",
              "      <th>1</th>\n",
              "      <td>금호타운</td>\n",
              "      <td>중구 영주로 49</td>\n",
              "      <td>보수동</td>\n",
              "    </tr>\n",
              "    <tr>\n",
              "      <th>2</th>\n",
              "      <td>대림에이스</td>\n",
              "      <td>중구 법수길 74</td>\n",
              "      <td>보수동</td>\n",
              "    </tr>\n",
              "    <tr>\n",
              "      <th>3</th>\n",
              "      <td>대청공원</td>\n",
              "      <td>중구 망양로 355번길 37</td>\n",
              "      <td>대청동</td>\n",
              "    </tr>\n",
              "    <tr>\n",
              "      <th>4</th>\n",
              "      <td>대청만우</td>\n",
              "      <td>중구 중구로 83</td>\n",
              "      <td>대청동</td>\n",
              "    </tr>\n",
              "  </tbody>\n",
              "</table>\n",
              "</div>"
            ],
            "text/plain": [
              "    시설 명               주소  읍면동\n",
              "0   구름다리        중구 법수길 76  보수동\n",
              "1   금호타운        중구 영주로 49  보수동\n",
              "2  대림에이스        중구 법수길 74  보수동\n",
              "3   대청공원  중구 망양로 355번길 37  대청동\n",
              "4   대청만우        중구 중구로 83  대청동"
            ]
          },
          "metadata": {},
          "execution_count": 4
        }
      ]
    },
    {
      "cell_type": "markdown",
      "metadata": {
        "id": "xIzdV_Pw2tkL"
      },
      "source": [
        "# 경로당 이용률을 통해 적절한 경로당 수 및 필요한 경로당 수 파악\n",
        "___\n",
        "\n"
      ]
    },
    {
      "cell_type": "markdown",
      "metadata": {
        "id": "JGVuEb613SVO"
      },
      "source": [
        "## Main 데이터 프레임 생성\n",
        "___\n",
        "파악된 정보들을 Main 데이터 프레임에 적재함\n",
        "Main 데이터 프레임은 최종 결과이다. "
      ]
    },
    {
      "cell_type": "code",
      "metadata": {
        "id": "anrnxXBs4f4o"
      },
      "source": [
        "# 부산 16개 행정 구\n",
        "district = [\"강서구\", \"금정구\",\"기장군\",\"남구\",\"동구\",\"동래구\",\"부산진구\",\"북구\",\"사상구\",\"사하구\",\"서구\",\"수영구\",\"연제구\",\"영도구\",\"중구\",\"해운대구\"]"
      ],
      "execution_count": 5,
      "outputs": []
    },
    {
      "cell_type": "markdown",
      "metadata": {
        "id": "R3mf-FTE4tSl"
      },
      "source": [
        "데이터 프레임 생성 메서드\n",
        "\n",
        "행정 구 | 행정 동 | 경로당 수 | 적절한 경로당 수 | 필요한 경로당 수 | "
      ]
    },
    {
      "cell_type": "code",
      "metadata": {
        "id": "vgvrFGRD4r6x"
      },
      "source": [
        "def get_senior_centers_by_district():\n",
        "    '''\n",
        "    구별로 시니어 센터를가져옴. 구2015.csv파일 읽음\n",
        "    :return: 행정구 | 행정 동 | 경로당 수 | 적절한 경로당 수 | 필요한 경로당 수|\n",
        "    '''\n",
        "    df_temp = pd.DataFrame(columns=[\"경로당 수\", \"적절한 경로당 수\", \"필요한 경로당 수\"])\n",
        "    #  구, 동에 대한 정보 불러옴\n",
        "    df_district = pd.read_csv(\"구2015.csv\", encoding='cp949')\n",
        "    df = pd.concat([df_district , df_temp])\n",
        "\n",
        "    return df"
      ],
      "execution_count": 6,
      "outputs": []
    },
    {
      "cell_type": "markdown",
      "metadata": {
        "id": "Zn4vY3Ew5FqQ"
      },
      "source": [
        "## 행정 동 단위 고령인구 파악 및 서브 데이터 프레임으로 관리\n",
        "\n",
        "추후 행정 동에 대한 경로당 필요성을 파악하기 위한 밑작업"
      ]
    },
    {
      "cell_type": "code",
      "metadata": {
        "id": "5r6HzqRd5Chb"
      },
      "source": [
        "def get_senior_people_by_admin_area(district):\n",
        "    '''\n",
        "    행정구역별 고령인구 가져옴\n",
        "    :return: 행정구역별 | 고령인구 합계\n",
        "    '''\n",
        "    lst_df = [df_population[\"행정구역(동읍면)별\"],df_population[\"고령인구 합계\"]]\n",
        "\n",
        "    df_sc = pd.concat(lst_df,axis=1)\n",
        "    lst = []\n",
        "    for i in range(1,222): # 222 : number_of_record\n",
        "        for d in district:\n",
        "            if df_sc.iloc[i][\"행정구역(동읍면)별\"] == d:\n",
        "                lst.append(i)\n",
        "\n",
        "    for i in lst:\n",
        "        df_sc.drop(index=i,axis=0,inplace=True) # 행정 구 삭제\n",
        "    df_sc .drop(index=0,inplace=True)  # 부산광역시 전체 삭제\n",
        "    df_sc.set_index(\"행정구역(동읍면)별\",inplace=True) # 동을 기준으로 함\n",
        "    return df_sc.copy()"
      ],
      "execution_count": 7,
      "outputs": []
    },
    {
      "cell_type": "code",
      "metadata": {
        "colab": {
          "base_uri": "https://localhost:8080/",
          "height": 238
        },
        "id": "PxaxFrYb5WBN",
        "outputId": "801c95d8-f766-4198-fbb7-74645ac55c47"
      },
      "source": [
        "df_senior_people = get_senior_people_by_admin_area(district)\n",
        "df_senior_people.head(5)"
      ],
      "execution_count": 8,
      "outputs": [
        {
          "output_type": "execute_result",
          "data": {
            "text/html": [
              "<div>\n",
              "<style scoped>\n",
              "    .dataframe tbody tr th:only-of-type {\n",
              "        vertical-align: middle;\n",
              "    }\n",
              "\n",
              "    .dataframe tbody tr th {\n",
              "        vertical-align: top;\n",
              "    }\n",
              "\n",
              "    .dataframe thead th {\n",
              "        text-align: right;\n",
              "    }\n",
              "</style>\n",
              "<table border=\"1\" class=\"dataframe\">\n",
              "  <thead>\n",
              "    <tr style=\"text-align: right;\">\n",
              "      <th></th>\n",
              "      <th>고령인구 합계</th>\n",
              "    </tr>\n",
              "    <tr>\n",
              "      <th>행정구역(동읍면)별</th>\n",
              "      <th></th>\n",
              "    </tr>\n",
              "  </thead>\n",
              "  <tbody>\n",
              "    <tr>\n",
              "      <th>중앙동</th>\n",
              "      <td>403</td>\n",
              "    </tr>\n",
              "    <tr>\n",
              "      <th>동광동</th>\n",
              "      <td>819</td>\n",
              "    </tr>\n",
              "    <tr>\n",
              "      <th>대청동</th>\n",
              "      <td>1418</td>\n",
              "    </tr>\n",
              "    <tr>\n",
              "      <th>보수동</th>\n",
              "      <td>2232</td>\n",
              "    </tr>\n",
              "    <tr>\n",
              "      <th>부평동</th>\n",
              "      <td>1235</td>\n",
              "    </tr>\n",
              "  </tbody>\n",
              "</table>\n",
              "</div>"
            ],
            "text/plain": [
              "            고령인구 합계\n",
              "행정구역(동읍면)별         \n",
              "중앙동             403\n",
              "동광동             819\n",
              "대청동            1418\n",
              "보수동            2232\n",
              "부평동            1235"
            ]
          },
          "metadata": {},
          "execution_count": 8
        }
      ]
    },
    {
      "cell_type": "code",
      "metadata": {
        "colab": {
          "base_uri": "https://localhost:8080/",
          "height": 238
        },
        "id": "7nwK5s65FpxN",
        "outputId": "7d981ec3-8715-4942-af50-f71da59bd562"
      },
      "source": [
        "df_old_population_count  = df_senior_people.sort_index()\n",
        "df_old_population_count.head(5)"
      ],
      "execution_count": 9,
      "outputs": [
        {
          "output_type": "execute_result",
          "data": {
            "text/html": [
              "<div>\n",
              "<style scoped>\n",
              "    .dataframe tbody tr th:only-of-type {\n",
              "        vertical-align: middle;\n",
              "    }\n",
              "\n",
              "    .dataframe tbody tr th {\n",
              "        vertical-align: top;\n",
              "    }\n",
              "\n",
              "    .dataframe thead th {\n",
              "        text-align: right;\n",
              "    }\n",
              "</style>\n",
              "<table border=\"1\" class=\"dataframe\">\n",
              "  <thead>\n",
              "    <tr style=\"text-align: right;\">\n",
              "      <th></th>\n",
              "      <th>고령인구 합계</th>\n",
              "    </tr>\n",
              "    <tr>\n",
              "      <th>행정구역(동읍면)별</th>\n",
              "      <th></th>\n",
              "    </tr>\n",
              "  </thead>\n",
              "  <tbody>\n",
              "    <tr>\n",
              "      <th>가덕도동</th>\n",
              "      <td>868</td>\n",
              "    </tr>\n",
              "    <tr>\n",
              "      <th>가락동</th>\n",
              "      <td>766</td>\n",
              "    </tr>\n",
              "    <tr>\n",
              "      <th>가야1동</th>\n",
              "      <td>3374</td>\n",
              "    </tr>\n",
              "    <tr>\n",
              "      <th>가야2동</th>\n",
              "      <td>3034</td>\n",
              "    </tr>\n",
              "    <tr>\n",
              "      <th>감만1동</th>\n",
              "      <td>2799</td>\n",
              "    </tr>\n",
              "  </tbody>\n",
              "</table>\n",
              "</div>"
            ],
            "text/plain": [
              "            고령인구 합계\n",
              "행정구역(동읍면)별         \n",
              "가덕도동            868\n",
              "가락동             766\n",
              "가야1동           3374\n",
              "가야2동           3034\n",
              "감만1동           2799"
            ]
          },
          "metadata": {},
          "execution_count": 9
        }
      ]
    },
    {
      "cell_type": "markdown",
      "metadata": {
        "id": "loF4hPYl9Lvj"
      },
      "source": [
        "## 행정 동 단위 적절한 경로당 수 파악\n",
        "___\n",
        "\n",
        "이용률을 고려한 행정 동 단위 적절한 경로당 수 파악 및 필요한 경로당 수 파악"
      ]
    },
    {
      "cell_type": "markdown",
      "metadata": {
        "id": "PTiv_CAC9Sxz"
      },
      "source": [
        "### 노인 1명당 필요한 경로당 수 산출 메서드"
      ]
    },
    {
      "cell_type": "code",
      "metadata": {
        "id": "EOxEf4919XrV"
      },
      "source": [
        "def oen_old_population_senior_centers_request_by_member(df_sc_members):\n",
        "    '''\n",
        "    이용률을 고려한 1명의 노인당 필요한 경로당 개수를 구하여 경로당 이용률 데이터 프레임에 삽입\n",
        "    :param df_sc_members: 경로당 이용률 데이터 프레임\n",
        "    :return: 1명의 노인이 필요한 경로당 수\n",
        "    '''\n",
        "\n",
        "    sc_members_rate = df_sc_members.iloc[0:][\"전체 노인 중 경로당 이용 비율\"] # A\n",
        "    sc_member_n = df_sc_members.iloc[0:][\"경로당 1개소 당 등록자 수\"] # B\n",
        "    result = (sc_members_rate/100) / sc_member_n\n",
        "    df = pd.concat([df_sc_members,result],axis=1)\n",
        "    df.rename(columns={0:'노인 1명이 필요한 경로당 개수'},inplace=True)\n",
        "\n",
        "    return df"
      ],
      "execution_count": 10,
      "outputs": []
    },
    {
      "cell_type": "code",
      "metadata": {
        "id": "fb078u6Y9oJ5"
      },
      "source": [
        "df_sc_members = oen_old_population_senior_centers_request_by_member(df_sc_members)\n",
        "df_request_member_main = get_senior_centers_by_district()\n",
        "district = list(df_request_member_main.iloc[0:][\"행정 구\"])\n",
        "df_request_member_main = df_request_member_main.set_index([\"행정 구\",\"행정 동\"])"
      ],
      "execution_count": 11,
      "outputs": []
    },
    {
      "cell_type": "code",
      "metadata": {
        "id": "MLdaZ4ptklLH",
        "outputId": "e46e568a-fccd-4c04-8d9c-88077b3a7dd5",
        "colab": {
          "base_uri": "https://localhost:8080/",
          "height": 582
        }
      },
      "source": [
        "df_sc_members"
      ],
      "execution_count": 38,
      "outputs": [
        {
          "output_type": "execute_result",
          "data": {
            "text/html": [
              "<div>\n",
              "<style scoped>\n",
              "    .dataframe tbody tr th:only-of-type {\n",
              "        vertical-align: middle;\n",
              "    }\n",
              "\n",
              "    .dataframe tbody tr th {\n",
              "        vertical-align: top;\n",
              "    }\n",
              "\n",
              "    .dataframe thead th {\n",
              "        text-align: right;\n",
              "    }\n",
              "</style>\n",
              "<table border=\"1\" class=\"dataframe\">\n",
              "  <thead>\n",
              "    <tr style=\"text-align: right;\">\n",
              "      <th></th>\n",
              "      <th>경로당 1개소 당 등록자 수</th>\n",
              "      <th>전체 노인 중 경로당 이용 비율</th>\n",
              "      <th>전체 인구 중 노인 비율</th>\n",
              "      <th>노인 1명이 필요한 경로당 개수</th>\n",
              "    </tr>\n",
              "    <tr>\n",
              "      <th>구분</th>\n",
              "      <th></th>\n",
              "      <th></th>\n",
              "      <th></th>\n",
              "      <th></th>\n",
              "    </tr>\n",
              "  </thead>\n",
              "  <tbody>\n",
              "    <tr>\n",
              "      <th>중구</th>\n",
              "      <td>43.2</td>\n",
              "      <td>12.5</td>\n",
              "      <td>24.2</td>\n",
              "      <td>0.002894</td>\n",
              "    </tr>\n",
              "    <tr>\n",
              "      <th>서구</th>\n",
              "      <td>26.2</td>\n",
              "      <td>7.6</td>\n",
              "      <td>22.8</td>\n",
              "      <td>0.002901</td>\n",
              "    </tr>\n",
              "    <tr>\n",
              "      <th>동구</th>\n",
              "      <td>30.7</td>\n",
              "      <td>9.6</td>\n",
              "      <td>24.6</td>\n",
              "      <td>0.003127</td>\n",
              "    </tr>\n",
              "    <tr>\n",
              "      <th>영도구</th>\n",
              "      <td>35.2</td>\n",
              "      <td>8.1</td>\n",
              "      <td>24.2</td>\n",
              "      <td>0.002301</td>\n",
              "    </tr>\n",
              "    <tr>\n",
              "      <th>부산진구</th>\n",
              "      <td>31.9</td>\n",
              "      <td>15.0</td>\n",
              "      <td>17.8</td>\n",
              "      <td>0.004702</td>\n",
              "    </tr>\n",
              "    <tr>\n",
              "      <th>동래구</th>\n",
              "      <td>39.8</td>\n",
              "      <td>13.0</td>\n",
              "      <td>16.6</td>\n",
              "      <td>0.003266</td>\n",
              "    </tr>\n",
              "    <tr>\n",
              "      <th>남구</th>\n",
              "      <td>34.0</td>\n",
              "      <td>10.0</td>\n",
              "      <td>17.9</td>\n",
              "      <td>0.002941</td>\n",
              "    </tr>\n",
              "    <tr>\n",
              "      <th>북구</th>\n",
              "      <td>29.9</td>\n",
              "      <td>10.4</td>\n",
              "      <td>14.5</td>\n",
              "      <td>0.003478</td>\n",
              "    </tr>\n",
              "    <tr>\n",
              "      <th>해운대구</th>\n",
              "      <td>39.9</td>\n",
              "      <td>14.2</td>\n",
              "      <td>15.3</td>\n",
              "      <td>0.003559</td>\n",
              "    </tr>\n",
              "    <tr>\n",
              "      <th>사하구</th>\n",
              "      <td>26.5</td>\n",
              "      <td>9.3</td>\n",
              "      <td>16.1</td>\n",
              "      <td>0.003509</td>\n",
              "    </tr>\n",
              "    <tr>\n",
              "      <th>금정구</th>\n",
              "      <td>41.0</td>\n",
              "      <td>11.2</td>\n",
              "      <td>18.2</td>\n",
              "      <td>0.002732</td>\n",
              "    </tr>\n",
              "    <tr>\n",
              "      <th>강서구</th>\n",
              "      <td>33.6</td>\n",
              "      <td>38.2</td>\n",
              "      <td>11.4</td>\n",
              "      <td>0.011369</td>\n",
              "    </tr>\n",
              "    <tr>\n",
              "      <th>연제구</th>\n",
              "      <td>33.9</td>\n",
              "      <td>11.7</td>\n",
              "      <td>17.0</td>\n",
              "      <td>0.003451</td>\n",
              "    </tr>\n",
              "    <tr>\n",
              "      <th>수영구</th>\n",
              "      <td>41.9</td>\n",
              "      <td>10.5</td>\n",
              "      <td>19.1</td>\n",
              "      <td>0.002506</td>\n",
              "    </tr>\n",
              "    <tr>\n",
              "      <th>사상구</th>\n",
              "      <td>33.1</td>\n",
              "      <td>16.2</td>\n",
              "      <td>15.3</td>\n",
              "      <td>0.004894</td>\n",
              "    </tr>\n",
              "    <tr>\n",
              "      <th>기장군</th>\n",
              "      <td>31.6</td>\n",
              "      <td>37.1</td>\n",
              "      <td>14.5</td>\n",
              "      <td>0.011741</td>\n",
              "    </tr>\n",
              "  </tbody>\n",
              "</table>\n",
              "</div>"
            ],
            "text/plain": [
              "      경로당 1개소 당 등록자 수  전체 노인 중 경로당 이용 비율  전체 인구 중 노인 비율  노인 1명이 필요한 경로당 개수\n",
              "구분                                                                        \n",
              "중구               43.2               12.5           24.2           0.002894\n",
              "서구               26.2                7.6           22.8           0.002901\n",
              "동구               30.7                9.6           24.6           0.003127\n",
              "영도구              35.2                8.1           24.2           0.002301\n",
              "부산진구             31.9               15.0           17.8           0.004702\n",
              "동래구              39.8               13.0           16.6           0.003266\n",
              "남구               34.0               10.0           17.9           0.002941\n",
              "북구               29.9               10.4           14.5           0.003478\n",
              "해운대구             39.9               14.2           15.3           0.003559\n",
              "사하구              26.5                9.3           16.1           0.003509\n",
              "금정구              41.0               11.2           18.2           0.002732\n",
              "강서구              33.6               38.2           11.4           0.011369\n",
              "연제구              33.9               11.7           17.0           0.003451\n",
              "수영구              41.9               10.5           19.1           0.002506\n",
              "사상구              33.1               16.2           15.3           0.004894\n",
              "기장군              31.6               37.1           14.5           0.011741"
            ]
          },
          "metadata": {},
          "execution_count": 38
        }
      ]
    },
    {
      "cell_type": "code",
      "metadata": {
        "colab": {
          "base_uri": "https://localhost:8080/",
          "height": 455
        },
        "id": "iW5rlaPtuTGP",
        "outputId": "169296f5-893c-487a-f3a6-949369ef483f"
      },
      "source": [
        "df_request_member_main"
      ],
      "execution_count": 12,
      "outputs": [
        {
          "output_type": "execute_result",
          "data": {
            "text/html": [
              "<div>\n",
              "<style scoped>\n",
              "    .dataframe tbody tr th:only-of-type {\n",
              "        vertical-align: middle;\n",
              "    }\n",
              "\n",
              "    .dataframe tbody tr th {\n",
              "        vertical-align: top;\n",
              "    }\n",
              "\n",
              "    .dataframe thead th {\n",
              "        text-align: right;\n",
              "    }\n",
              "</style>\n",
              "<table border=\"1\" class=\"dataframe\">\n",
              "  <thead>\n",
              "    <tr style=\"text-align: right;\">\n",
              "      <th></th>\n",
              "      <th></th>\n",
              "      <th>경로당 수</th>\n",
              "      <th>적절한 경로당 수</th>\n",
              "      <th>필요한 경로당 수</th>\n",
              "    </tr>\n",
              "    <tr>\n",
              "      <th>행정 구</th>\n",
              "      <th>행정 동</th>\n",
              "      <th></th>\n",
              "      <th></th>\n",
              "      <th></th>\n",
              "    </tr>\n",
              "  </thead>\n",
              "  <tbody>\n",
              "    <tr>\n",
              "      <th rowspan=\"5\" valign=\"top\">중구</th>\n",
              "      <th>중앙동</th>\n",
              "      <td>NaN</td>\n",
              "      <td>NaN</td>\n",
              "      <td>NaN</td>\n",
              "    </tr>\n",
              "    <tr>\n",
              "      <th>동광동</th>\n",
              "      <td>NaN</td>\n",
              "      <td>NaN</td>\n",
              "      <td>NaN</td>\n",
              "    </tr>\n",
              "    <tr>\n",
              "      <th>대청동</th>\n",
              "      <td>NaN</td>\n",
              "      <td>NaN</td>\n",
              "      <td>NaN</td>\n",
              "    </tr>\n",
              "    <tr>\n",
              "      <th>보수동</th>\n",
              "      <td>NaN</td>\n",
              "      <td>NaN</td>\n",
              "      <td>NaN</td>\n",
              "    </tr>\n",
              "    <tr>\n",
              "      <th>부평동</th>\n",
              "      <td>NaN</td>\n",
              "      <td>NaN</td>\n",
              "      <td>NaN</td>\n",
              "    </tr>\n",
              "    <tr>\n",
              "      <th>...</th>\n",
              "      <th>...</th>\n",
              "      <td>...</td>\n",
              "      <td>...</td>\n",
              "      <td>...</td>\n",
              "    </tr>\n",
              "    <tr>\n",
              "      <th rowspan=\"5\" valign=\"top\">기장군</th>\n",
              "      <th>기장읍</th>\n",
              "      <td>NaN</td>\n",
              "      <td>NaN</td>\n",
              "      <td>NaN</td>\n",
              "    </tr>\n",
              "    <tr>\n",
              "      <th>장안읍</th>\n",
              "      <td>NaN</td>\n",
              "      <td>NaN</td>\n",
              "      <td>NaN</td>\n",
              "    </tr>\n",
              "    <tr>\n",
              "      <th>정관읍</th>\n",
              "      <td>NaN</td>\n",
              "      <td>NaN</td>\n",
              "      <td>NaN</td>\n",
              "    </tr>\n",
              "    <tr>\n",
              "      <th>일광면</th>\n",
              "      <td>NaN</td>\n",
              "      <td>NaN</td>\n",
              "      <td>NaN</td>\n",
              "    </tr>\n",
              "    <tr>\n",
              "      <th>철마면</th>\n",
              "      <td>NaN</td>\n",
              "      <td>NaN</td>\n",
              "      <td>NaN</td>\n",
              "    </tr>\n",
              "  </tbody>\n",
              "</table>\n",
              "<p>205 rows × 3 columns</p>\n",
              "</div>"
            ],
            "text/plain": [
              "          경로당 수 적절한 경로당 수 필요한 경로당 수\n",
              "행정 구 행정 동                          \n",
              "중구   중앙동    NaN       NaN       NaN\n",
              "     동광동    NaN       NaN       NaN\n",
              "     대청동    NaN       NaN       NaN\n",
              "     보수동    NaN       NaN       NaN\n",
              "     부평동    NaN       NaN       NaN\n",
              "...         ...       ...       ...\n",
              "기장군  기장읍    NaN       NaN       NaN\n",
              "     장안읍    NaN       NaN       NaN\n",
              "     정관읍    NaN       NaN       NaN\n",
              "     일광면    NaN       NaN       NaN\n",
              "     철마면    NaN       NaN       NaN\n",
              "\n",
              "[205 rows x 3 columns]"
            ]
          },
          "metadata": {},
          "execution_count": 12
        }
      ]
    },
    {
      "cell_type": "markdown",
      "metadata": {
        "id": "KbSyfKxg9rJD"
      },
      "source": [
        "### 행정 동 단위 적절한 경로당 수 산출 메서드"
      ]
    },
    {
      "cell_type": "code",
      "metadata": {
        "id": "y4a6GRJO9q4E"
      },
      "source": [
        "def old_population_sum_by_admin_area_advance(df_request_member_main,df_senior_people,df_sc_members):\n",
        "    '''\n",
        "    행정 동 별 적절한 경로당 수를 구한다.\n",
        "    :param df_request_member_main: 이용률을 고려한 데이터를 담을 df\n",
        "    :param df_senior_people: 행정 동 단위 고령인구\n",
        "    :param df_sc_members: 노인 1명당 필요한 경로당 개수 정보\n",
        "    :return: 적절한 경로당 수가 추가된 데이터 프레임\n",
        "    '''\n",
        "    df_sc_members.set_index(\"구분\",inplace=True)\n",
        "    appropriate_data = np.array([])\n",
        "    dong_n = df_senior_people.shape[0]\n",
        "    gu_n = df_sc_members.shape[0]\n",
        "    str_info = \"고령인구 합계\"\n",
        "    for i in range(0,gu_n):\n",
        "        for j in range(0,dong_n):\n",
        "            if df_request_member_main.index[j][0] == df_sc_members.index[i]:\n",
        "                appropriate_data= np.append(\n",
        "                    appropriate_data,\n",
        "                    round(df_sc_members.iloc[i][\"노인 1명이 필요한 경로당 개수\"]*df_senior_people.iloc[j][str_info],1)\n",
        "                )\n",
        "                #print(f\"result[i]:{df_sc_members.index[i]} 고령:{df_senior_people.iloc[j][str_info]} \")\n",
        "\n",
        "    df_request_member_main[\"적절한 경로당 수\"] = appropriate_data\n",
        "    return df_request_member_main"
      ],
      "execution_count": 13,
      "outputs": []
    },
    {
      "cell_type": "code",
      "metadata": {
        "id": "QjL00KKD99mr"
      },
      "source": [
        "df_request_member_main= old_population_sum_by_admin_area_advance(\n",
        "    df_request_member_main,\n",
        "    df_senior_people,\n",
        "    df_sc_members\n",
        ")"
      ],
      "execution_count": 14,
      "outputs": []
    },
    {
      "cell_type": "code",
      "metadata": {
        "colab": {
          "base_uri": "https://localhost:8080/",
          "height": 455
        },
        "id": "GYAdBdajjdiB",
        "outputId": "3bde3d34-ccf3-4cb9-9f56-fee00de0d8e2"
      },
      "source": [
        "df_request_member_main"
      ],
      "execution_count": 15,
      "outputs": [
        {
          "output_type": "execute_result",
          "data": {
            "text/html": [
              "<div>\n",
              "<style scoped>\n",
              "    .dataframe tbody tr th:only-of-type {\n",
              "        vertical-align: middle;\n",
              "    }\n",
              "\n",
              "    .dataframe tbody tr th {\n",
              "        vertical-align: top;\n",
              "    }\n",
              "\n",
              "    .dataframe thead th {\n",
              "        text-align: right;\n",
              "    }\n",
              "</style>\n",
              "<table border=\"1\" class=\"dataframe\">\n",
              "  <thead>\n",
              "    <tr style=\"text-align: right;\">\n",
              "      <th></th>\n",
              "      <th></th>\n",
              "      <th>경로당 수</th>\n",
              "      <th>적절한 경로당 수</th>\n",
              "      <th>필요한 경로당 수</th>\n",
              "    </tr>\n",
              "    <tr>\n",
              "      <th>행정 구</th>\n",
              "      <th>행정 동</th>\n",
              "      <th></th>\n",
              "      <th></th>\n",
              "      <th></th>\n",
              "    </tr>\n",
              "  </thead>\n",
              "  <tbody>\n",
              "    <tr>\n",
              "      <th rowspan=\"5\" valign=\"top\">중구</th>\n",
              "      <th>중앙동</th>\n",
              "      <td>NaN</td>\n",
              "      <td>1.2</td>\n",
              "      <td>NaN</td>\n",
              "    </tr>\n",
              "    <tr>\n",
              "      <th>동광동</th>\n",
              "      <td>NaN</td>\n",
              "      <td>2.4</td>\n",
              "      <td>NaN</td>\n",
              "    </tr>\n",
              "    <tr>\n",
              "      <th>대청동</th>\n",
              "      <td>NaN</td>\n",
              "      <td>4.1</td>\n",
              "      <td>NaN</td>\n",
              "    </tr>\n",
              "    <tr>\n",
              "      <th>보수동</th>\n",
              "      <td>NaN</td>\n",
              "      <td>6.5</td>\n",
              "      <td>NaN</td>\n",
              "    </tr>\n",
              "    <tr>\n",
              "      <th>부평동</th>\n",
              "      <td>NaN</td>\n",
              "      <td>3.6</td>\n",
              "      <td>NaN</td>\n",
              "    </tr>\n",
              "    <tr>\n",
              "      <th>...</th>\n",
              "      <th>...</th>\n",
              "      <td>...</td>\n",
              "      <td>...</td>\n",
              "      <td>...</td>\n",
              "    </tr>\n",
              "    <tr>\n",
              "      <th rowspan=\"5\" valign=\"top\">기장군</th>\n",
              "      <th>기장읍</th>\n",
              "      <td>NaN</td>\n",
              "      <td>101.6</td>\n",
              "      <td>NaN</td>\n",
              "    </tr>\n",
              "    <tr>\n",
              "      <th>장안읍</th>\n",
              "      <td>NaN</td>\n",
              "      <td>23.0</td>\n",
              "      <td>NaN</td>\n",
              "    </tr>\n",
              "    <tr>\n",
              "      <th>정관읍</th>\n",
              "      <td>NaN</td>\n",
              "      <td>60.9</td>\n",
              "      <td>NaN</td>\n",
              "    </tr>\n",
              "    <tr>\n",
              "      <th>일광면</th>\n",
              "      <td>NaN</td>\n",
              "      <td>25.5</td>\n",
              "      <td>NaN</td>\n",
              "    </tr>\n",
              "    <tr>\n",
              "      <th>철마면</th>\n",
              "      <td>NaN</td>\n",
              "      <td>21.0</td>\n",
              "      <td>NaN</td>\n",
              "    </tr>\n",
              "  </tbody>\n",
              "</table>\n",
              "<p>205 rows × 3 columns</p>\n",
              "</div>"
            ],
            "text/plain": [
              "          경로당 수  적절한 경로당 수 필요한 경로당 수\n",
              "행정 구 행정 동                           \n",
              "중구   중앙동    NaN        1.2       NaN\n",
              "     동광동    NaN        2.4       NaN\n",
              "     대청동    NaN        4.1       NaN\n",
              "     보수동    NaN        6.5       NaN\n",
              "     부평동    NaN        3.6       NaN\n",
              "...         ...        ...       ...\n",
              "기장군  기장읍    NaN      101.6       NaN\n",
              "     장안읍    NaN       23.0       NaN\n",
              "     정관읍    NaN       60.9       NaN\n",
              "     일광면    NaN       25.5       NaN\n",
              "     철마면    NaN       21.0       NaN\n",
              "\n",
              "[205 rows x 3 columns]"
            ]
          },
          "metadata": {},
          "execution_count": 15
        }
      ]
    },
    {
      "cell_type": "markdown",
      "metadata": {
        "id": "8DMNEfJA-FYo"
      },
      "source": [
        "### 행정 동 단위 필요한 경로당 수 산출 메서드"
      ]
    },
    {
      "cell_type": "code",
      "metadata": {
        "id": "RCylAm_4-nDr"
      },
      "source": [
        "def senior_center_need_counts_by_admin_area_advance(df_busan_senior_centers,df_request_member_main):\n",
        "    '''\n",
        "    행정 동 단위 이용률을 고려한 경로당 개수를 구한다\n",
        "    :param df_busan_senior_centers: 부산시 경로당 현황 데이터\n",
        "    :param df_request_member_main:  이용률을 고려한 데이터를 담을 df\n",
        "    :return: 행정 동 단위 이용률을 고려한 경로당 개수를 담은 df\n",
        "    '''\n",
        "    sc_n_by_admin_area = np.array(df_busan_senior_centers[\"읍면동\"].value_counts().sort_index()) # 201\n",
        "    non_data = ['광복동', '당감1동', '범천4동', '장전3동', '중앙동']\n",
        "    df_request_member_main.reset_index(inplace=True)\n",
        "    df_request_member_main.sort_values(by=[\"행정 동\"],inplace=True)\n",
        "    df_request_member_main[\"경로당 수\"] = sc_n_by_admin_area\n",
        "    for non in non_data:\n",
        "        df_request_member_main.loc[df_request_member_main.iloc[0:][\"행정 동\"]==non,\"경로당 수\"] = 0\n",
        "    df_request_member_main[\"필요한 경로당 수\"] = round(-(df_request_member_main[\"경로당 수\"] - df_request_member_main[\"적절한 경로당 수\"]),0)\n",
        "    # df_request_member_main.set_index([\"행정 구\"],inplace=True)\n",
        "\n",
        "    return df_request_member_main"
      ],
      "execution_count": 16,
      "outputs": []
    },
    {
      "cell_type": "code",
      "metadata": {
        "colab": {
          "base_uri": "https://localhost:8080/",
          "height": 206
        },
        "id": "RPHy106C-o--",
        "outputId": "47730326-7a68-4dbd-a741-372b0e4e28ee"
      },
      "source": [
        "df_request_member_main = senior_center_need_counts_by_admin_area_advance(df_busan_senior_centers, df_request_member_main)\n",
        "df_request_member_main.head(5)"
      ],
      "execution_count": 17,
      "outputs": [
        {
          "output_type": "execute_result",
          "data": {
            "text/html": [
              "<div>\n",
              "<style scoped>\n",
              "    .dataframe tbody tr th:only-of-type {\n",
              "        vertical-align: middle;\n",
              "    }\n",
              "\n",
              "    .dataframe tbody tr th {\n",
              "        vertical-align: top;\n",
              "    }\n",
              "\n",
              "    .dataframe thead th {\n",
              "        text-align: right;\n",
              "    }\n",
              "</style>\n",
              "<table border=\"1\" class=\"dataframe\">\n",
              "  <thead>\n",
              "    <tr style=\"text-align: right;\">\n",
              "      <th></th>\n",
              "      <th>행정 구</th>\n",
              "      <th>행정 동</th>\n",
              "      <th>경로당 수</th>\n",
              "      <th>적절한 경로당 수</th>\n",
              "      <th>필요한 경로당 수</th>\n",
              "    </tr>\n",
              "  </thead>\n",
              "  <tbody>\n",
              "    <tr>\n",
              "      <th>165</th>\n",
              "      <td>강서구</td>\n",
              "      <td>가덕도동</td>\n",
              "      <td>14</td>\n",
              "      <td>9.9</td>\n",
              "      <td>-4.0</td>\n",
              "    </tr>\n",
              "    <tr>\n",
              "      <th>163</th>\n",
              "      <td>강서구</td>\n",
              "      <td>가락동</td>\n",
              "      <td>15</td>\n",
              "      <td>8.7</td>\n",
              "      <td>-6.0</td>\n",
              "    </tr>\n",
              "    <tr>\n",
              "      <th>58</th>\n",
              "      <td>부산진구</td>\n",
              "      <td>가야1동</td>\n",
              "      <td>1</td>\n",
              "      <td>15.9</td>\n",
              "      <td>15.0</td>\n",
              "    </tr>\n",
              "    <tr>\n",
              "      <th>59</th>\n",
              "      <td>부산진구</td>\n",
              "      <td>가야2동</td>\n",
              "      <td>8</td>\n",
              "      <td>14.3</td>\n",
              "      <td>6.0</td>\n",
              "    </tr>\n",
              "    <tr>\n",
              "      <th>89</th>\n",
              "      <td>남구</td>\n",
              "      <td>감만1동</td>\n",
              "      <td>11</td>\n",
              "      <td>8.2</td>\n",
              "      <td>-3.0</td>\n",
              "    </tr>\n",
              "  </tbody>\n",
              "</table>\n",
              "</div>"
            ],
            "text/plain": [
              "     행정 구  행정 동  경로당 수  적절한 경로당 수  필요한 경로당 수\n",
              "165   강서구  가덕도동     14        9.9       -4.0\n",
              "163   강서구   가락동     15        8.7       -6.0\n",
              "58   부산진구  가야1동      1       15.9       15.0\n",
              "59   부산진구  가야2동      8       14.3        6.0\n",
              "89     남구  감만1동     11        8.2       -3.0"
            ]
          },
          "metadata": {},
          "execution_count": 17
        }
      ]
    },
    {
      "cell_type": "markdown",
      "metadata": {
        "id": "1-B2aoXI_R4s"
      },
      "source": [
        "### 필요한 경로당 수 추출 메서드\n",
        "---\n",
        "미래의 증설될 경로당 수 파악을 위해 현재의 필요한 경로당 수를 따로 분리"
      ]
    },
    {
      "cell_type": "code",
      "metadata": {
        "id": "PeprfMc7_RjW"
      },
      "source": [
        "def extract_by_district_necessary_senior_center(df_request_member_main):\n",
        "    '''\n",
        "    df_request_member_main에서 행정 구, 행정 동, 필요한 경로당 수를 추출하여 새로운 데이터 프레임을 생성한다.\n",
        "    :param df_request_member_main: 추출할 데이터가 들어잇는 데이터 프레임\n",
        "    :return: 추출된 데이터를 가질 데이터 프레임\n",
        "    '''\n",
        "    df = df_request_member_main.sort_index()\n",
        "    df.drop(columns=[\"경로당 수\",\"적절한 경로당 수\"],axis=1,inplace=True)\n",
        "    return df"
      ],
      "execution_count": 18,
      "outputs": []
    },
    {
      "cell_type": "code",
      "metadata": {
        "id": "qD5LMa0F_lNk",
        "colab": {
          "base_uri": "https://localhost:8080/",
          "height": 206
        },
        "outputId": "54166618-1ab2-4b7b-c91c-253665017882"
      },
      "source": [
        "df_extract_main = extract_by_district_necessary_senior_center(df_request_member_main)\n",
        "df_extract_main.head(5)"
      ],
      "execution_count": 19,
      "outputs": [
        {
          "output_type": "execute_result",
          "data": {
            "text/html": [
              "<div>\n",
              "<style scoped>\n",
              "    .dataframe tbody tr th:only-of-type {\n",
              "        vertical-align: middle;\n",
              "    }\n",
              "\n",
              "    .dataframe tbody tr th {\n",
              "        vertical-align: top;\n",
              "    }\n",
              "\n",
              "    .dataframe thead th {\n",
              "        text-align: right;\n",
              "    }\n",
              "</style>\n",
              "<table border=\"1\" class=\"dataframe\">\n",
              "  <thead>\n",
              "    <tr style=\"text-align: right;\">\n",
              "      <th></th>\n",
              "      <th>행정 구</th>\n",
              "      <th>행정 동</th>\n",
              "      <th>필요한 경로당 수</th>\n",
              "    </tr>\n",
              "  </thead>\n",
              "  <tbody>\n",
              "    <tr>\n",
              "      <th>0</th>\n",
              "      <td>중구</td>\n",
              "      <td>중앙동</td>\n",
              "      <td>1.0</td>\n",
              "    </tr>\n",
              "    <tr>\n",
              "      <th>1</th>\n",
              "      <td>중구</td>\n",
              "      <td>동광동</td>\n",
              "      <td>1.0</td>\n",
              "    </tr>\n",
              "    <tr>\n",
              "      <th>2</th>\n",
              "      <td>중구</td>\n",
              "      <td>대청동</td>\n",
              "      <td>-1.0</td>\n",
              "    </tr>\n",
              "    <tr>\n",
              "      <th>3</th>\n",
              "      <td>중구</td>\n",
              "      <td>보수동</td>\n",
              "      <td>-4.0</td>\n",
              "    </tr>\n",
              "    <tr>\n",
              "      <th>4</th>\n",
              "      <td>중구</td>\n",
              "      <td>부평동</td>\n",
              "      <td>2.0</td>\n",
              "    </tr>\n",
              "  </tbody>\n",
              "</table>\n",
              "</div>"
            ],
            "text/plain": [
              "  행정 구 행정 동  필요한 경로당 수\n",
              "0   중구  중앙동        1.0\n",
              "1   중구  동광동        1.0\n",
              "2   중구  대청동       -1.0\n",
              "3   중구  보수동       -4.0\n",
              "4   중구  부평동        2.0"
            ]
          },
          "metadata": {},
          "execution_count": 19
        }
      ]
    },
    {
      "cell_type": "markdown",
      "metadata": {
        "id": "2ZVjAATiCkOo"
      },
      "source": [
        "# 2001년 ~ 2020년 고령인구 비율 및 증감율 파악\n",
        "---\n",
        "KOSIS에서 제공하는 자료를 참고하여 고령인구 비율 및 증감율을 파악한다."
      ]
    },
    {
      "cell_type": "markdown",
      "metadata": {
        "id": "pEKXGjfiC1ZC"
      },
      "source": [
        "## 고령인구 비율 및 증감율 데이터 로드"
      ]
    },
    {
      "cell_type": "code",
      "metadata": {
        "id": "qgzuAsIqCwLk",
        "colab": {
          "base_uri": "https://localhost:8080/",
          "height": 167
        },
        "outputId": "a9750c37-7dd7-40b2-881f-c8d6c644489d"
      },
      "source": [
        "rate_df = pd.read_csv(\"부산-비율.csv\",encoding='cp949')\n",
        "rate_df"
      ],
      "execution_count": 20,
      "outputs": [
        {
          "output_type": "execute_result",
          "data": {
            "text/html": [
              "<div>\n",
              "<style scoped>\n",
              "    .dataframe tbody tr th:only-of-type {\n",
              "        vertical-align: middle;\n",
              "    }\n",
              "\n",
              "    .dataframe tbody tr th {\n",
              "        vertical-align: top;\n",
              "    }\n",
              "\n",
              "    .dataframe thead th {\n",
              "        text-align: right;\n",
              "    }\n",
              "</style>\n",
              "<table border=\"1\" class=\"dataframe\">\n",
              "  <thead>\n",
              "    <tr style=\"text-align: right;\">\n",
              "      <th></th>\n",
              "      <th>2001</th>\n",
              "      <th>2001.1</th>\n",
              "      <th>2002</th>\n",
              "      <th>2002.1</th>\n",
              "      <th>2003</th>\n",
              "      <th>2003.1</th>\n",
              "      <th>2004</th>\n",
              "      <th>2004.1</th>\n",
              "      <th>2005</th>\n",
              "      <th>2005.1</th>\n",
              "      <th>2006</th>\n",
              "      <th>2006.1</th>\n",
              "      <th>2007</th>\n",
              "      <th>2007.1</th>\n",
              "      <th>2008</th>\n",
              "      <th>2008.1</th>\n",
              "      <th>2009</th>\n",
              "      <th>2009.1</th>\n",
              "      <th>2010</th>\n",
              "      <th>2010.1</th>\n",
              "      <th>2011</th>\n",
              "      <th>2011.1</th>\n",
              "      <th>2012</th>\n",
              "      <th>2012.1</th>\n",
              "      <th>2013</th>\n",
              "      <th>2013.1</th>\n",
              "      <th>2014</th>\n",
              "      <th>2014.1</th>\n",
              "      <th>2015</th>\n",
              "      <th>2015.1</th>\n",
              "      <th>2016</th>\n",
              "      <th>2016.1</th>\n",
              "      <th>2017</th>\n",
              "      <th>2017.1</th>\n",
              "      <th>2018</th>\n",
              "      <th>2018.1</th>\n",
              "      <th>2019</th>\n",
              "      <th>2019.1</th>\n",
              "      <th>2020</th>\n",
              "      <th>2020.1</th>\n",
              "    </tr>\n",
              "  </thead>\n",
              "  <tbody>\n",
              "    <tr>\n",
              "      <th>0</th>\n",
              "      <td>원데이터</td>\n",
              "      <td>전년 대비 증감</td>\n",
              "      <td>원데이터</td>\n",
              "      <td>전년 대비 증감</td>\n",
              "      <td>원데이터</td>\n",
              "      <td>전년 대비 증감</td>\n",
              "      <td>원데이터</td>\n",
              "      <td>전년 대비 증감</td>\n",
              "      <td>원데이터</td>\n",
              "      <td>전년 대비 증감</td>\n",
              "      <td>원데이터</td>\n",
              "      <td>전년 대비 증감</td>\n",
              "      <td>원데이터</td>\n",
              "      <td>전년 대비 증감</td>\n",
              "      <td>원데이터</td>\n",
              "      <td>전년 대비 증감</td>\n",
              "      <td>원데이터</td>\n",
              "      <td>전년 대비 증감</td>\n",
              "      <td>원데이터</td>\n",
              "      <td>전년 대비 증감</td>\n",
              "      <td>원데이터</td>\n",
              "      <td>전년 대비 증감</td>\n",
              "      <td>원데이터</td>\n",
              "      <td>전년 대비 증감</td>\n",
              "      <td>원데이터</td>\n",
              "      <td>전년 대비 증감</td>\n",
              "      <td>원데이터</td>\n",
              "      <td>전년 대비 증감</td>\n",
              "      <td>원데이터</td>\n",
              "      <td>전년 대비 증감</td>\n",
              "      <td>원데이터</td>\n",
              "      <td>전년 대비 증감</td>\n",
              "      <td>원데이터</td>\n",
              "      <td>전년 대비 증감</td>\n",
              "      <td>원데이터</td>\n",
              "      <td>전년 대비 증감</td>\n",
              "      <td>원데이터</td>\n",
              "      <td>전년 대비 증감</td>\n",
              "      <td>원데이터</td>\n",
              "      <td>전년 대비 증감</td>\n",
              "    </tr>\n",
              "    <tr>\n",
              "      <th>1</th>\n",
              "      <td>6.4</td>\n",
              "      <td>0.4</td>\n",
              "      <td>6.8</td>\n",
              "      <td>0.4</td>\n",
              "      <td>7.3</td>\n",
              "      <td>0.5</td>\n",
              "      <td>7.8</td>\n",
              "      <td>0.5</td>\n",
              "      <td>8.3</td>\n",
              "      <td>0.5</td>\n",
              "      <td>8.9</td>\n",
              "      <td>0.6</td>\n",
              "      <td>9.6</td>\n",
              "      <td>0.7</td>\n",
              "      <td>10.2</td>\n",
              "      <td>0.6</td>\n",
              "      <td>10.8</td>\n",
              "      <td>0.6</td>\n",
              "      <td>11.3</td>\n",
              "      <td>0.5</td>\n",
              "      <td>11.8</td>\n",
              "      <td>0.5</td>\n",
              "      <td>12.5</td>\n",
              "      <td>0.7</td>\n",
              "      <td>13.3</td>\n",
              "      <td>0.8</td>\n",
              "      <td>14</td>\n",
              "      <td>0.7</td>\n",
              "      <td>14.6</td>\n",
              "      <td>0.6</td>\n",
              "      <td>15.3</td>\n",
              "      <td>0.7</td>\n",
              "      <td>16.3</td>\n",
              "      <td>1</td>\n",
              "      <td>17.1</td>\n",
              "      <td>0.8</td>\n",
              "      <td>18.2</td>\n",
              "      <td>1.1</td>\n",
              "      <td>19.4</td>\n",
              "      <td>1.2</td>\n",
              "    </tr>\n",
              "  </tbody>\n",
              "</table>\n",
              "</div>"
            ],
            "text/plain": [
              "   2001    2001.1  2002    2002.1  ...  2019    2019.1  2020    2020.1\n",
              "0  원데이터  전년 대비 증감  원데이터  전년 대비 증감  ...  원데이터  전년 대비 증감  원데이터  전년 대비 증감\n",
              "1   6.4       0.4   6.8       0.4  ...  18.2       1.1  19.4       1.2\n",
              "\n",
              "[2 rows x 40 columns]"
            ]
          },
          "metadata": {},
          "execution_count": 20
        }
      ]
    },
    {
      "cell_type": "markdown",
      "metadata": {
        "id": "mxt-L0GrDBlu"
      },
      "source": [
        "## 고령인구 비율 및 증감율 리스트 변환"
      ]
    },
    {
      "cell_type": "code",
      "metadata": {
        "id": "AMWI7KqgDG53"
      },
      "source": [
        "orginal = []\n",
        "last = []\n",
        "row_n = rate_df.shape[1]\n",
        "\n",
        "for i in range(0,row_n):\n",
        "    if i % 2 == 0:\n",
        "        orginal.append(rate_df.iloc[1][i])\n",
        "    else:\n",
        "        last.append(rate_df.iloc[1][i])\n",
        "orginal = list(map(float,orginal))\n",
        "last = list(map(float,last))"
      ],
      "execution_count": 21,
      "outputs": []
    },
    {
      "cell_type": "markdown",
      "metadata": {
        "id": "eCopFGm4_pn9"
      },
      "source": [
        "# 미래 고령인구 파악\n",
        "---\n",
        "\n",
        "2015년의 데이터와 우리가 만든 수식을 사용하여 미래 고령인구 비율, 고령인구 증가율 산출\n",
        "\n",
        "$ FOP_{rate}(a,b,c,k_{time sapn}) = e^{b+ax}+c $\n",
        "----\n",
        "\n",
        "$ k_{time sapn} = Y_{예측년도} - 2001 $\n",
        "\n",
        "$ a = ln(2020년\\, 고령인구\\, /\\, 2001년\\, 고령인구) $\n",
        "\n",
        "$ b = ln(2001년\\, 고령인구\\, /\\, a) $\n",
        "\n",
        "$ c = 2001년\\, 고령인구\\, 비율\\, -\\, e^b $\n",
        "\n"
      ]
    },
    {
      "cell_type": "markdown",
      "metadata": {
        "id": "ebTJr4I8B5IZ"
      },
      "source": [
        "## 미래 고령인구 비율 및 증가율 산출 메서드"
      ]
    },
    {
      "cell_type": "code",
      "metadata": {
        "id": "I8T5zIgdBzGo"
      },
      "source": [
        "def future_old_population_rate_method(PGR_2001, Old_rate_2001, PGR_2020, x):\n",
        "    '''\n",
        "    미래 고령인구 비율 f(x) = np.exp(b+a*x)+c\n",
        "    미래 고령인구 증가율 f'(x) = a*np.exp(b+a*x)\n",
        "    :param PGR_2001 : 2001년 고령인구 증가율\n",
        "    :param Old_rate_2001 : 2001년 고령인구 비율\n",
        "    :param PGR_2020 : 2020년 고령인구 증가율\n",
        "    :param x : 미래 년도 - 2001\n",
        "    :return: f(x), f'(x)\n",
        "    '''\n",
        "    x = x - 2001\n",
        "    a = np.log(PGR_2020/PGR_2001) / 19\n",
        "    b = np.log(PGR_2001/a)\n",
        "    c = (Old_rate_2001-np.exp(b))\n",
        "    fx = round(np.exp(b+(a*x))+c, 3)\n",
        "    fx_dot  = round(a*np.exp(b+(a*x)), 3)\n",
        "    print(f\"고령인구 비율 : {fx}%, 고령인구 증가율 : {fx_dot}%\")\n",
        "\n",
        "    return  fx,fx_dot"
      ],
      "execution_count": 22,
      "outputs": []
    },
    {
      "cell_type": "code",
      "metadata": {
        "id": "cGMcH8a6CZ2c",
        "colab": {
          "base_uri": "https://localhost:8080/"
        },
        "outputId": "28161128-17b2-42ca-a1c8-47f69ee51e4e"
      },
      "source": [
        "PGR_2001 = last[0]\n",
        "Old_rate_2001 = orginal[0]\n",
        "PGR_2020 = last[-1]\n",
        "T = 2021 ## 2021년 예측하기\n",
        "future_old_population_rate,increase_old_population_rate = future_old_population_rate_method(PGR_2001, Old_rate_2001, PGR_2020, T) ## 2021년 고령인구 비율 예측"
      ],
      "execution_count": 23,
      "outputs": [
        {
          "output_type": "stream",
          "name": "stdout",
          "text": [
            "고령인구 비율 : 21.471%, 고령인구 증가율 : 1.271%\n"
          ]
        }
      ]
    },
    {
      "cell_type": "markdown",
      "metadata": {
        "id": "TJHcf_lKDYK_"
      },
      "source": [
        "## 증가될 고령인구 산출 메서드"
      ]
    },
    {
      "cell_type": "code",
      "metadata": {
        "id": "V56DRO8uDbXS"
      },
      "source": [
        "def predict_future_old_population(future_old_population_rate,df_population):\n",
        "    '''\n",
        "    예측된 미래 고령인구 비율을 이용하여 증가될 고령인구 수를 구한다\n",
        "    :param future_old_population_rate: 미래 고령인구 비율\n",
        "    :param df_population: 현재 인구 데이터\n",
        "    :return: 미래 증가될 고령인구 수\n",
        "    '''\n",
        "    df = pd.DataFrame(columns=[\"행정 구\",\"행정 동\",\"증가될 인구\",\"증가될 경로당 수\"])\n",
        "    future_old_population =  (future_old_population_rate / 100) * df_population.iloc[0][\"합계\"] # 증가된 고령 인구 수\n",
        "    predict_future_old_population = round(future_old_population -  df_population.iloc[0][\"고령인구 합계\"])  # 증가될 고령 인구수 (증가된 고령 인구 - 현재 고령 인구)\n",
        "\n",
        "    return predict_future_old_population"
      ],
      "execution_count": 24,
      "outputs": []
    },
    {
      "cell_type": "code",
      "metadata": {
        "id": "VgKot9-EDcbq",
        "colab": {
          "base_uri": "https://localhost:8080/"
        },
        "outputId": "0ab70ad3-0f26-48a7-e29d-35d073db9c19"
      },
      "source": [
        "future_old_population_by_busan = predict_future_old_population(future_old_population_rate,df_population)\n",
        "future_old_population_by_busan"
      ],
      "execution_count": 25,
      "outputs": [
        {
          "output_type": "execute_result",
          "data": {
            "text/plain": [
              "239813"
            ]
          },
          "metadata": {},
          "execution_count": 25
        }
      ]
    },
    {
      "cell_type": "markdown",
      "metadata": {
        "id": "JB02DvtzDf35"
      },
      "source": [
        "## 미래 행정 동 단위 고령 인구 파악\n"
      ]
    },
    {
      "cell_type": "markdown",
      "metadata": {
        "id": "VtCvq9FcEfog"
      },
      "source": [
        "미래 데이터를 저장할 새로운 데이터 프레임 생성"
      ]
    },
    {
      "cell_type": "code",
      "metadata": {
        "id": "ZiWf_vOREXwg",
        "colab": {
          "base_uri": "https://localhost:8080/",
          "height": 206
        },
        "outputId": "9ae4dd8d-4159-498e-f8e9-8351e8ee008e"
      },
      "source": [
        "df_future_main =  get_senior_centers_by_district()\n",
        "df_future_main.head(5)"
      ],
      "execution_count": 26,
      "outputs": [
        {
          "output_type": "execute_result",
          "data": {
            "text/html": [
              "<div>\n",
              "<style scoped>\n",
              "    .dataframe tbody tr th:only-of-type {\n",
              "        vertical-align: middle;\n",
              "    }\n",
              "\n",
              "    .dataframe tbody tr th {\n",
              "        vertical-align: top;\n",
              "    }\n",
              "\n",
              "    .dataframe thead th {\n",
              "        text-align: right;\n",
              "    }\n",
              "</style>\n",
              "<table border=\"1\" class=\"dataframe\">\n",
              "  <thead>\n",
              "    <tr style=\"text-align: right;\">\n",
              "      <th></th>\n",
              "      <th>행정 구</th>\n",
              "      <th>행정 동</th>\n",
              "      <th>경로당 수</th>\n",
              "      <th>적절한 경로당 수</th>\n",
              "      <th>필요한 경로당 수</th>\n",
              "    </tr>\n",
              "  </thead>\n",
              "  <tbody>\n",
              "    <tr>\n",
              "      <th>0</th>\n",
              "      <td>중구</td>\n",
              "      <td>중앙동</td>\n",
              "      <td>NaN</td>\n",
              "      <td>NaN</td>\n",
              "      <td>NaN</td>\n",
              "    </tr>\n",
              "    <tr>\n",
              "      <th>1</th>\n",
              "      <td>중구</td>\n",
              "      <td>동광동</td>\n",
              "      <td>NaN</td>\n",
              "      <td>NaN</td>\n",
              "      <td>NaN</td>\n",
              "    </tr>\n",
              "    <tr>\n",
              "      <th>2</th>\n",
              "      <td>중구</td>\n",
              "      <td>대청동</td>\n",
              "      <td>NaN</td>\n",
              "      <td>NaN</td>\n",
              "      <td>NaN</td>\n",
              "    </tr>\n",
              "    <tr>\n",
              "      <th>3</th>\n",
              "      <td>중구</td>\n",
              "      <td>보수동</td>\n",
              "      <td>NaN</td>\n",
              "      <td>NaN</td>\n",
              "      <td>NaN</td>\n",
              "    </tr>\n",
              "    <tr>\n",
              "      <th>4</th>\n",
              "      <td>중구</td>\n",
              "      <td>부평동</td>\n",
              "      <td>NaN</td>\n",
              "      <td>NaN</td>\n",
              "      <td>NaN</td>\n",
              "    </tr>\n",
              "  </tbody>\n",
              "</table>\n",
              "</div>"
            ],
            "text/plain": [
              "  행정 구 행정 동 경로당 수 적절한 경로당 수 필요한 경로당 수\n",
              "0   중구  중앙동   NaN       NaN       NaN\n",
              "1   중구  동광동   NaN       NaN       NaN\n",
              "2   중구  대청동   NaN       NaN       NaN\n",
              "3   중구  보수동   NaN       NaN       NaN\n",
              "4   중구  부평동   NaN       NaN       NaN"
            ]
          },
          "metadata": {},
          "execution_count": 26
        }
      ]
    },
    {
      "cell_type": "markdown",
      "metadata": {
        "id": "u9yMyK3xE52z"
      },
      "source": [
        "## 행정동 단위 고령인구 산출 \n",
        "\n",
        "$ (행정\\, 동\\, 단위\\, 고령인구\\, 합계\\, / \\,부산\\, 전체\\, 고령인\\, 합계)\\, *\\, 미래\\, 증가될\\, 고령인구 $"
      ]
    },
    {
      "cell_type": "code",
      "metadata": {
        "id": "q4FUUvzsE1No",
        "colab": {
          "base_uri": "https://localhost:8080/",
          "height": 206
        },
        "outputId": "a1cada54-9d12-4c1e-f009-6be8100a0ad3"
      },
      "source": [
        "predict_future_old_population_by_admin_area = (\n",
        "        (df_old_population_count.iloc[0:][\"고령인구 합계\"] / df_population.iloc[0][\"고령인구 합계\"]) * future_old_population_by_busan).reset_index()\n",
        "predict_future_old_population_by_admin_area.head(5)"
      ],
      "execution_count": 27,
      "outputs": [
        {
          "output_type": "execute_result",
          "data": {
            "text/html": [
              "<div>\n",
              "<style scoped>\n",
              "    .dataframe tbody tr th:only-of-type {\n",
              "        vertical-align: middle;\n",
              "    }\n",
              "\n",
              "    .dataframe tbody tr th {\n",
              "        vertical-align: top;\n",
              "    }\n",
              "\n",
              "    .dataframe thead th {\n",
              "        text-align: right;\n",
              "    }\n",
              "</style>\n",
              "<table border=\"1\" class=\"dataframe\">\n",
              "  <thead>\n",
              "    <tr style=\"text-align: right;\">\n",
              "      <th></th>\n",
              "      <th>행정구역(동읍면)별</th>\n",
              "      <th>고령인구 합계</th>\n",
              "    </tr>\n",
              "  </thead>\n",
              "  <tbody>\n",
              "    <tr>\n",
              "      <th>0</th>\n",
              "      <td>가덕도동</td>\n",
              "      <td>404.480275</td>\n",
              "    </tr>\n",
              "    <tr>\n",
              "      <th>1</th>\n",
              "      <td>가락동</td>\n",
              "      <td>356.949183</td>\n",
              "    </tr>\n",
              "    <tr>\n",
              "      <th>2</th>\n",
              "      <td>가야1동</td>\n",
              "      <td>1572.253973</td>\n",
              "    </tr>\n",
              "    <tr>\n",
              "      <th>3</th>\n",
              "      <td>가야2동</td>\n",
              "      <td>1413.816999</td>\n",
              "    </tr>\n",
              "    <tr>\n",
              "      <th>4</th>\n",
              "      <td>감만1동</td>\n",
              "      <td>1304.309090</td>\n",
              "    </tr>\n",
              "  </tbody>\n",
              "</table>\n",
              "</div>"
            ],
            "text/plain": [
              "  행정구역(동읍면)별      고령인구 합계\n",
              "0       가덕도동   404.480275\n",
              "1        가락동   356.949183\n",
              "2       가야1동  1572.253973\n",
              "3       가야2동  1413.816999\n",
              "4       감만1동  1304.309090"
            ]
          },
          "metadata": {},
          "execution_count": 27
        }
      ]
    },
    {
      "cell_type": "markdown",
      "metadata": {
        "id": "5WSjDKgjGHy8"
      },
      "source": [
        "# 미래 경로당 수 파악\n",
        "___\n",
        "\n",
        "미래의 행정 동 단위 적절한 경로당 수 산출\n",
        "\n",
        "$ 노인\\, 1명당\\, 필요한\\, 경로당\\, 수\\, * 미래\\, 행정동\\, 단위\\, 증가될\\, 고령인구\\, $"
      ]
    },
    {
      "cell_type": "markdown",
      "metadata": {
        "id": "-SbApEsXG6bK"
      },
      "source": [
        "## 미래 행정 동 단위 적절한 경로당 수 산출 메서드"
      ]
    },
    {
      "cell_type": "code",
      "metadata": {
        "id": "WAjGr02qFWds"
      },
      "source": [
        " def future_old_population_sum_by_admin_area_advance_2(df_future_main,predict_future_old_population_by_admin_area,df_sc_members):\n",
        "    '''\n",
        "    미래의 행정 동 별 적절한 경로당 수를 구한다.\n",
        "    :param df_future_main: 이용률을 고려한 데이터를 담을 df\n",
        "    :param predict_future_old_population_by_admin_area: 미래 행정 동 단위 증가될 고령인구\n",
        "    :param df_sc_members: 노인 1명당 필요한 경로당 개수 정보\n",
        "    :return: 적절한 경로당 수가 추가된 데이터 프레임\n",
        "    '''\n",
        "\n",
        "    admin_area_n = df_sc_members.shape[0] # 행정 동 개수 205\n",
        "    gu_n = predict_future_old_population_by_admin_area.shape[0] # 행정 구 개수 16개\n",
        "    df_future_main.set_index([\"행정 구\"],inplace=True)\n",
        "    district = [\"강서구\", \"금정구\",\"기장군\",\"남구\",\"동구\",\"동래구\",\"부산진구\",\"북구\",\"사상구\",\"사하구\",\"서구\",\"수영구\",\"연제구\",\"영도구\",\"중구\",\"해운대구\"]\n",
        "    i = 0\n",
        "\n",
        "    for d in district:\n",
        "        df_future_main.loc[d,[\"노인 1명당 필요한 경로당 개수\"]] = df_sc_members.loc[d][\"노인 1명이 필요한 경로당 개수\"]\n",
        "        i += 1\n",
        "\n",
        "    # 행정 동 적절한 경로당 수 구함\n",
        "\n",
        "    df_future_main.reset_index(inplace=True)\n",
        "    df_future_main = df_future_main.set_index(\"행정 동\").sort_index()\n",
        "    predict_future_old_population_by_admin_area.set_index(\"행정구역(동읍면)별\",inplace=True)\n",
        "\n",
        "    lst1 = np.array(df_future_main.iloc[0:][\"노인 1명당 필요한 경로당 개수\"])\n",
        "    lst2 = np.array(predict_future_old_population_by_admin_area.iloc[0:][\"고령인구 합계\"])\n",
        "\n",
        "    mul = lst1 * lst2\n",
        "    mul = mul.astype(int)\n",
        "    df_future_main[\"적절한 경로당 수\"] = mul\n",
        "    return df_future_main"
      ],
      "execution_count": 28,
      "outputs": []
    },
    {
      "cell_type": "code",
      "metadata": {
        "id": "JZ8vC7hhGptI"
      },
      "source": [
        "df_future_main = future_old_population_sum_by_admin_area_advance_2(df_future_main,predict_future_old_population_by_admin_area,df_sc_members)"
      ],
      "execution_count": 29,
      "outputs": []
    },
    {
      "cell_type": "markdown",
      "metadata": {
        "id": "0dlXxmo0G275"
      },
      "source": [
        "## 미래 증가될 인구, 필요한 경로당 수 및 증가될 경로당 수 산출 메서드"
      ]
    },
    {
      "cell_type": "code",
      "metadata": {
        "id": "_wUbkLSIHITF"
      },
      "source": [
        "def complete_it(df_future_main,predict_future_old_population_by_admin_area,df_extract_main):\n",
        "    '''\n",
        "    증가될 인구 및 미래 필요한 경로당 수, 증가될 경로당 수를 산출하여 리턴한다.\n",
        "    :param df_future_main: 미래의 데이터를 가짐\n",
        "    :param predict_future_old_population_by_admin_area: 미래의 고령인구\n",
        "    :param df_extract_main: 현재의 필요한 경로당 수가 추출된 데이터\n",
        "    :return: 행정 동 | 행정 구 | 증가될 경로당 수 | 미래 필요한 경로당 수 | 노인 1명당 필요한 경로당 개수 | 증가될 인구\n",
        "    '''\n",
        "    df_future_main[\"증가될 인구\"] = round(predict_future_old_population_by_admin_area.iloc[0:][\"고령인구 합계\"], 0).astype(int)\n",
        "    df_future_main = df_future_main.drop(columns=[\"경로당 수\"])\n",
        "    df_future_main = df_future_main.rename(columns={\"필요한 경로당 수\": \"미래 필요한 경로당 수\", \"적절한 경로당 수\": \"증가될 경로당 수\"})\n",
        "    df_extract_main = df_extract_main.set_index(\"행정 동\").sort_index()\n",
        "    # 미래의 적절한 경로당 + 현재의 필요한 경로당 수\n",
        "    df_future_main[\"미래 필요한 경로당 수\"] = df_future_main.iloc[0:][\"증가될 경로당 수\"] + df_extract_main.iloc[0:][\"필요한 경로당 수\"]\n",
        "\n",
        "    return df_future_main"
      ],
      "execution_count": 30,
      "outputs": []
    },
    {
      "cell_type": "code",
      "metadata": {
        "id": "kDwcsop6HJXT",
        "colab": {
          "base_uri": "https://localhost:8080/",
          "height": 238
        },
        "outputId": "8752a332-3b71-42f4-c2ce-9102c7f3b5a3"
      },
      "source": [
        "df_future_main = complete_it(df_future_main,predict_future_old_population_by_admin_area,df_extract_main)\n",
        "df_future_main.head(5)"
      ],
      "execution_count": 31,
      "outputs": [
        {
          "output_type": "execute_result",
          "data": {
            "text/html": [
              "<div>\n",
              "<style scoped>\n",
              "    .dataframe tbody tr th:only-of-type {\n",
              "        vertical-align: middle;\n",
              "    }\n",
              "\n",
              "    .dataframe tbody tr th {\n",
              "        vertical-align: top;\n",
              "    }\n",
              "\n",
              "    .dataframe thead th {\n",
              "        text-align: right;\n",
              "    }\n",
              "</style>\n",
              "<table border=\"1\" class=\"dataframe\">\n",
              "  <thead>\n",
              "    <tr style=\"text-align: right;\">\n",
              "      <th></th>\n",
              "      <th>행정 구</th>\n",
              "      <th>증가될 경로당 수</th>\n",
              "      <th>미래 필요한 경로당 수</th>\n",
              "      <th>노인 1명당 필요한 경로당 개수</th>\n",
              "      <th>증가될 인구</th>\n",
              "    </tr>\n",
              "    <tr>\n",
              "      <th>행정 동</th>\n",
              "      <th></th>\n",
              "      <th></th>\n",
              "      <th></th>\n",
              "      <th></th>\n",
              "      <th></th>\n",
              "    </tr>\n",
              "  </thead>\n",
              "  <tbody>\n",
              "    <tr>\n",
              "      <th>가덕도동</th>\n",
              "      <td>강서구</td>\n",
              "      <td>4</td>\n",
              "      <td>0.0</td>\n",
              "      <td>0.011369</td>\n",
              "      <td>404</td>\n",
              "    </tr>\n",
              "    <tr>\n",
              "      <th>가락동</th>\n",
              "      <td>강서구</td>\n",
              "      <td>4</td>\n",
              "      <td>-2.0</td>\n",
              "      <td>0.011369</td>\n",
              "      <td>357</td>\n",
              "    </tr>\n",
              "    <tr>\n",
              "      <th>가야1동</th>\n",
              "      <td>부산진구</td>\n",
              "      <td>7</td>\n",
              "      <td>22.0</td>\n",
              "      <td>0.004702</td>\n",
              "      <td>1572</td>\n",
              "    </tr>\n",
              "    <tr>\n",
              "      <th>가야2동</th>\n",
              "      <td>부산진구</td>\n",
              "      <td>6</td>\n",
              "      <td>12.0</td>\n",
              "      <td>0.004702</td>\n",
              "      <td>1414</td>\n",
              "    </tr>\n",
              "    <tr>\n",
              "      <th>감만1동</th>\n",
              "      <td>남구</td>\n",
              "      <td>3</td>\n",
              "      <td>0.0</td>\n",
              "      <td>0.002941</td>\n",
              "      <td>1304</td>\n",
              "    </tr>\n",
              "  </tbody>\n",
              "</table>\n",
              "</div>"
            ],
            "text/plain": [
              "      행정 구  증가될 경로당 수  미래 필요한 경로당 수  노인 1명당 필요한 경로당 개수  증가될 인구\n",
              "행정 동                                                          \n",
              "가덕도동   강서구          4           0.0           0.011369     404\n",
              "가락동    강서구          4          -2.0           0.011369     357\n",
              "가야1동  부산진구          7          22.0           0.004702    1572\n",
              "가야2동  부산진구          6          12.0           0.004702    1414\n",
              "감만1동    남구          3           0.0           0.002941    1304"
            ]
          },
          "metadata": {},
          "execution_count": 31
        }
      ]
    },
    {
      "cell_type": "markdown",
      "metadata": {
        "id": "eEd63BNgHVhN"
      },
      "source": [
        "# 실제 2021년 경로당 수와 예측한 필요한 경로당 수 비교\n",
        "---\n",
        "\n",
        "미래 필요한 경로당 수가 실제 2021년에 반영이 되었는지 확인을 해봄으로써, 예측 결과를 평가 할 수 있다."
      ]
    },
    {
      "cell_type": "markdown",
      "metadata": {
        "id": "Cj0Y_9NVMU_k"
      },
      "source": [
        "## 실제 2021년 행정 동 경로당 수 로드"
      ]
    },
    {
      "cell_type": "code",
      "metadata": {
        "id": "SZE2l2whMUol",
        "colab": {
          "base_uri": "https://localhost:8080/",
          "height": 238
        },
        "outputId": "d2c1f40c-94ef-4322-fb45-5b130c06efe5"
      },
      "source": [
        "df_compare = pd.read_csv(\"예측비교.csv\",encoding='cp949').set_index(\"행정 동\").sort_index()\n",
        "df_compare.head(5)"
      ],
      "execution_count": 32,
      "outputs": [
        {
          "output_type": "execute_result",
          "data": {
            "text/html": [
              "<div>\n",
              "<style scoped>\n",
              "    .dataframe tbody tr th:only-of-type {\n",
              "        vertical-align: middle;\n",
              "    }\n",
              "\n",
              "    .dataframe tbody tr th {\n",
              "        vertical-align: top;\n",
              "    }\n",
              "\n",
              "    .dataframe thead th {\n",
              "        text-align: right;\n",
              "    }\n",
              "</style>\n",
              "<table border=\"1\" class=\"dataframe\">\n",
              "  <thead>\n",
              "    <tr style=\"text-align: right;\">\n",
              "      <th></th>\n",
              "      <th>행정 구</th>\n",
              "      <th>경로당 수</th>\n",
              "      <th>적절한 경로당 수</th>\n",
              "      <th>필요한 경로당 수</th>\n",
              "    </tr>\n",
              "    <tr>\n",
              "      <th>행정 동</th>\n",
              "      <th></th>\n",
              "      <th></th>\n",
              "      <th></th>\n",
              "      <th></th>\n",
              "    </tr>\n",
              "  </thead>\n",
              "  <tbody>\n",
              "    <tr>\n",
              "      <th>가덕도동</th>\n",
              "      <td>강서구</td>\n",
              "      <td>17</td>\n",
              "      <td>13.4</td>\n",
              "      <td>-4</td>\n",
              "    </tr>\n",
              "    <tr>\n",
              "      <th>가락동</th>\n",
              "      <td>강서구</td>\n",
              "      <td>18</td>\n",
              "      <td>10.6</td>\n",
              "      <td>-7</td>\n",
              "    </tr>\n",
              "    <tr>\n",
              "      <th>가야1동</th>\n",
              "      <td>부산진구</td>\n",
              "      <td>15</td>\n",
              "      <td>20.4</td>\n",
              "      <td>5</td>\n",
              "    </tr>\n",
              "    <tr>\n",
              "      <th>가야2동</th>\n",
              "      <td>부산진구</td>\n",
              "      <td>12</td>\n",
              "      <td>18.3</td>\n",
              "      <td>6</td>\n",
              "    </tr>\n",
              "    <tr>\n",
              "      <th>감만1동</th>\n",
              "      <td>남구</td>\n",
              "      <td>15</td>\n",
              "      <td>10.1</td>\n",
              "      <td>-5</td>\n",
              "    </tr>\n",
              "  </tbody>\n",
              "</table>\n",
              "</div>"
            ],
            "text/plain": [
              "      행정 구  경로당 수  적절한 경로당 수  필요한 경로당 수\n",
              "행정 동                                   \n",
              "가덕도동   강서구     17       13.4         -4\n",
              "가락동    강서구     18       10.6         -7\n",
              "가야1동  부산진구     15       20.4          5\n",
              "가야2동  부산진구     12       18.3          6\n",
              "감만1동    남구     15       10.1         -5"
            ]
          },
          "metadata": {},
          "execution_count": 32
        }
      ]
    },
    {
      "cell_type": "markdown",
      "metadata": {
        "id": "LZr2rTk5RzO9"
      },
      "source": [
        "## 예측 된 적절한 경로당 수와 실제 적절한 경로당 수 비교하여 오차 계산\n",
        "---\n",
        "$ 2015년의\\, 설치된\\, 경로당\\, 수\\, +\\, 미래\\, 필요한\\, 경로당\\, 수$의 값과 2021년의 적절한 경로당 수를 비교한다."
      ]
    },
    {
      "cell_type": "code",
      "metadata": {
        "id": "QtqAb0UqBsMi"
      },
      "source": [
        "def percentage_err(df_request_member_main,df_future_main,df_compare):\n",
        "    '''\n",
        "    백분율 오차를 구하여 반환하는 메서드\n",
        "    :param df_request_member_main: 2015년 경로당 수\n",
        "    :param df_future_main: 미래 필요한 경로당 수\n",
        "    :param df_compare: 실제 2021년 적절한 경로당 수\n",
        "    :return: 백분율 오차\n",
        "    '''\n",
        "    prediction_data = df_future_main.iloc[0:][\"미래 필요한 경로당 수\"]\n",
        "    fact_data = df_request_member_main.iloc[0:][\"경로당 수\"] \n",
        "    prediction_data = int(prediction_data.sum()) + int(fact_data.sum()) # 예측 대이터\n",
        "\n",
        "    compare_data = df_compare.iloc[0:][\"적절한 경로당 수\"]\n",
        "    compare_data = int(compare_data.sum()) # 비교 대상\n",
        "\n",
        "    ##백분율 오차 계산\n",
        "    percentage_error = abs(compare_data - prediction_data)/compare_data * 100\n",
        "\n",
        "    return percentage_error,prediction_data,compare_data"
      ],
      "execution_count": 33,
      "outputs": []
    },
    {
      "cell_type": "code",
      "metadata": {
        "id": "qmFtvSz9CpxJ",
        "colab": {
          "base_uri": "https://localhost:8080/"
        },
        "outputId": "987ef476-649b-4367-c17a-a0c55b961bba"
      },
      "source": [
        "percentage_error,prediction_data,compare_data = percentage_err(df_request_member_main,df_future_main,df_compare)\n",
        "print(f\"실제 2021년 적절한 경로당 수와 예측한 값의 백분율 오차: {percentage_error}%\")"
      ],
      "execution_count": 34,
      "outputs": [
        {
          "output_type": "stream",
          "name": "stdout",
          "text": [
            "실제 2021년 적절한 경로당 수와 예측한 값의 백분율 오차: 5.031446540880504%\n"
          ]
        }
      ]
    },
    {
      "cell_type": "markdown",
      "metadata": {
        "collapsed": false,
        "id": "IpsmUZPsQiUf"
      },
      "source": [
        "# 예측 결과 시각화"
      ]
    },
    {
      "cell_type": "code",
      "metadata": {
        "pycharm": {
          "name": "#%%\n"
        },
        "id": "9dvCB4UsQiUf"
      },
      "source": [
        "# seaborn 한글 설정\n",
        "sns.set(font=\"NanumBarunGothic\",\n",
        "        rc={\"axes.unicode_minus\":False},\n",
        "        style='darkgrid')"
      ],
      "execution_count": 35,
      "outputs": []
    },
    {
      "cell_type": "code",
      "metadata": {
        "pycharm": {
          "name": "#%%\n"
        },
        "id": "sfeCumX6QiUf"
      },
      "source": [
        "def draw_compare_data(prediction_data,compare_data):\n",
        "    '''\n",
        "    비교한 데이터 시각화 메서드\n",
        "    :param prediction_data: \n",
        "    :param compare_data: \n",
        "    :return: 차트\n",
        "    '''\n",
        "\n",
        "    df = pd.DataFrame({\"data\":[prediction_data,compare_data]},index=[\"예측 데이터\",\"비교 데이터\"])\n",
        "\n",
        "    plt.figure(figsize=(5,5))\n",
        "    sns.barplot(x=df.index,y=\"data\",data = df,hue = \"data\")\n",
        "    plt.title(\"예측 데이터와 실제 적절한 경로당 수 비교\")\n",
        "    plt.ylabel(\"적절한 경로당 수\")\n",
        "    plt.yticks([i for i in range(0,3000,200)])\n",
        "    \n",
        "    return plt.show()"
      ],
      "execution_count": 36,
      "outputs": []
    },
    {
      "cell_type": "code",
      "metadata": {
        "pycharm": {
          "name": "#%%\n"
        },
        "id": "Zze2mlLsQiUf",
        "colab": {
          "base_uri": "https://localhost:8080/",
          "height": 339
        },
        "outputId": "3e42da5b-bf16-480b-eb9e-e89f12b58018"
      },
      "source": [
        "draw_compare_data(prediction_data,compare_data)"
      ],
      "execution_count": 37,
      "outputs": [
        {
          "output_type": "display_data",
          "data": {
            "image/png": "[encoded data removed]",
            "text/plain": [
              "<Figure size 360x360 with 1 Axes>"
            ]
          },
          "metadata": {}
        }
      ]
    }
  ]
}